{
 "cells": [
  {
   "cell_type": "markdown",
   "metadata": {},
   "source": [
    "# Face Landmark Timing\n",
    "\n",
    "Although the novel idea of gaze prediction based on facial landmark seems promising, it is paramount to examining the prediction timing of the [face-alignment](https://github.com/1adrianb/face-alignment) neural network for viability."
   ]
  },
  {
   "cell_type": "code",
   "execution_count": 1,
   "metadata": {},
   "outputs": [],
   "source": [
    "import sys\n",
    "sys.path.insert(0, '../')\n",
    "from shared import *\n",
    "\n",
    "IMAGE_COUNT = 1000"
   ]
  },
  {
   "cell_type": "code",
   "execution_count": 2,
   "metadata": {},
   "outputs": [],
   "source": [
    "# Read metadata (including image locations)\n",
    "capture_df = load_df()\n",
    "\n",
    "# Only deal with frames where face and eyes were detected\n",
    "capture_df = capture_df[capture_df['appleFace.IsValid'] == True]"
   ]
  },
  {
   "cell_type": "code",
   "execution_count": 3,
   "metadata": {
    "scrolled": true
   },
   "outputs": [
    {
     "name": "stderr",
     "output_type": "stream",
     "text": [
      "/home/rcdilorenzo/anaconda3/envs/tensorflow/lib/python3.6/site-packages/torch/nn/functional.py:1890: UserWarning: nn.functional.upsample is deprecated. Use nn.functional.interpolate instead.\n",
      "  warnings.warn(\"nn.functional.upsample is deprecated. Use nn.functional.interpolate instead.\")\n"
     ]
    }
   ],
   "source": [
    "import matplotlib.pyplot as plt\n",
    "from random import sample as rand_subset\n",
    "from time import sleep\n",
    "from random import randint\n",
    "import face_alignment\n",
    "\n",
    "import torch\n",
    "torch.cuda.set_device(1)\n",
    "\n",
    "def pre(i):\n",
    "    return frame(capture_df.iloc[i])\n",
    "\n",
    "def post(predictions):\n",
    "    return not predictions is None\n",
    "\n",
    "fa = face_alignment.FaceAlignment(face_alignment.LandmarksType._3D, enable_cuda=True, flip_input=False)\n",
    "\n",
    "@supress_stdout\n",
    "def predict(image):\n",
    "    return fa.get_landmarks(image)\n",
    "\n",
    "indices = rand_subset(range(capture_df.shape[0]), IMAGE_COUNT)\n",
    "\n",
    "timing = list(map(time_this_f(predict, pre, post), indices))"
   ]
  },
  {
   "cell_type": "markdown",
   "metadata": {},
   "source": [
    "# Results\n",
    "\n",
    "For an initial visualization, a simple histogram can be produced from the time of each prediction regardless of whether a face was detected or not."
   ]
  },
  {
   "cell_type": "code",
   "execution_count": 4,
   "metadata": {},
   "outputs": [
    {
     "data": {
      "image/png": "[encoded data removed]",
      "text/plain": [
       "<Figure size 432x288 with 1 Axes>"
      ]
     },
     "metadata": {},
     "output_type": "display_data"
    }
   ],
   "source": [
    "import matplotlib as mpl\n",
    "from funcy import first, second, none_fn\n",
    "\n",
    "def seconds_to_fps(seconds):\n",
    "    return 1 / seconds\n",
    "\n",
    "plt.hist(list(map(compose(seconds_to_fps, first), timing)), bins = 10)\n",
    "plt.xlabel('FPS')\n",
    "plt.show()"
   ]
  },
  {
   "cell_type": "markdown",
   "metadata": {},
   "source": [
    "To understand this graphic a bit more, the following two plots (with and without landmarks) indicate the time difference."
   ]
  },
  {
   "cell_type": "code",
   "execution_count": 5,
   "metadata": {},
   "outputs": [
    {
     "data": {
      "image/png": "[encoded data removed]",
      "text/plain": [
       "<Figure size 432x288 with 1 Axes>"
      ]
     },
     "metadata": {},
     "output_type": "display_data"
    }
   ],
   "source": [
    "axes = plt.gca()\n",
    "axes.set_xlim([0, 12])\n",
    "axes.hist(list(map(compose(seconds_to_fps, first),\n",
    "                   filter(second, timing))), bins = 10)\n",
    "plt.title('Distribution of FPS where face was detected')\n",
    "plt.xlabel('FPS')\n",
    "plt.show()"
   ]
  },
  {
   "cell_type": "code",
   "execution_count": 6,
   "metadata": {},
   "outputs": [
    {
     "data": {
      "image/png": "[encoded data removed]",
      "text/plain": [
       "<Figure size 432x288 with 1 Axes>"
      ]
     },
     "metadata": {},
     "output_type": "display_data"
    }
   ],
   "source": [
    "axes = plt.gca()\n",
    "axes.set_xlim([0, 12])\n",
    "axes.hist(list(map(compose(seconds_to_fps, first),\n",
    "                   filter(none_fn(second), timing))), bins = 3)\n",
    "plt.title('Distribution of FPS where no face detected')\n",
    "plt.xlabel('FPS')\n",
    "plt.show()"
   ]
  },
  {
   "cell_type": "markdown",
   "metadata": {},
   "source": [
    "Therefore, when no landmarks are detected is the speed is approximately 10-12 FPS while the it drops to 6-7 FPS when the full neural network is performs a single forward pass."
   ]
  }
 ],
 "metadata": {
  "kernelspec": {
   "display_name": "Python 3",
   "language": "python",
   "name": "python3"
  },
  "language_info": {
   "codemirror_mode": {
    "name": "ipython",
    "version": 3
   },
   "file_extension": ".py",
   "mimetype": "text/x-python",
   "name": "python",
   "nbconvert_exporter": "python",
   "pygments_lexer": "ipython3",
   "version": "3.6.4"
  }
 },
 "nbformat": 4,
 "nbformat_minor": 2
}
