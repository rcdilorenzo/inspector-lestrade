{
 "cells": [
  {
   "cell_type": "markdown",
   "metadata": {},
   "source": [
    "# Yolo V3 Eye Detection (Using Open Images V4 Subset)"
   ]
  },
  {
   "cell_type": "markdown",
   "metadata": {},
   "source": [
    "(Data available from https://www.figure-eight.com/dataset/open-images-annotated-with-bounding-boxes/)"
   ]
  },
  {
   "cell_type": "code",
   "execution_count": 2,
   "metadata": {},
   "outputs": [],
   "source": [
    "from toolz.curried import *\n",
    "from funcy import compose, partial, flatten\n",
    "from os import listdir as ls\n",
    "from os.path import join, expanduser\n",
    "import pandas as pd\n",
    "\n",
    "DIR = expanduser('/media/rcdilorenzo/datahouse/openimagesv4')\n",
    "\n",
    "data_frame = compose(pd.read_csv, partial(join, DIR))\n",
    "\n",
    "class_desc = pd.read_csv(join(DIR, 'class-descriptions-boxable.csv'), header=0,\n",
    "                         names=['LabelName', 'Description'])\n",
    "\n",
    "# Annotation bounding boxes (train set)\n",
    "train_ann_bbox      = data_frame('train-annotations-bbox.csv')\n",
    "# Label w/ confidence by image id (train set)\n",
    "train_ann_label_box = data_frame('train-annotations-human-imagelabels-boxable.csv')\n",
    "# Image name with URL (train set)\n",
    "train_img_box       = data_frame('train-images-boxable.csv')\n",
    "# Image metadata (e.g. copyright, origin, author, rotation amount) (train set)\n",
    "train_img_box_rot   = data_frame('train-images-boxable-with-rotation.csv')\n",
    "\n",
    "# Annotation bounding boxes (validation set)\n",
    "val_ann_bbox       = data_frame('validation-annotations-bbox.csv')\n",
    "# Label w/ confidence by image id (validation set)\n",
    "val_ann_label_box  = data_frame('validation-annotations-human-imagelabels-boxable.csv')\n",
    "# Image metadata (e.g. copyright, origin, author, rotation amount) (validation set)\n",
    "val_img_rot        = data_frame('validation-images-with-rotation.csv')\n",
    "\n",
    "# Annotation bounding boxes (test set)\n",
    "test_ann_bbox       = data_frame('test-annotations-bbox.csv')\n",
    "# Label w/ confidence by image id (test set)\n",
    "test_ann_label_box  = data_frame('test-annotations-human-imagelabels-boxable.csv')\n",
    "# Image metadata (e.g. copyright, origin, author, rotation amount) (test set)\n",
    "test_img_rot        = data_frame('test-images-with-rotation.csv')"
   ]
  },
  {
   "cell_type": "markdown",
   "metadata": {},
   "source": [
    "With these basic imports, the goal is to filter only on the \"Human eye\" class to build the appropriate model."
   ]
  },
  {
   "cell_type": "code",
   "execution_count": 6,
   "metadata": {},
   "outputs": [
    {
     "data": {
      "text/plain": [
       "'/m/014sv8'"
      ]
     },
     "execution_count": 6,
     "metadata": {},
     "output_type": "execute_result"
    }
   ],
   "source": [
    "LABEL = class_desc[class_desc.Description == 'Human eye'].iloc[0].at['LabelName']\n",
    "LABEL"
   ]
  },
  {
   "cell_type": "markdown",
   "metadata": {},
   "source": [
    "Because this training will be performed on the freely downloadable subset of Open Images V4 (without Google Cloud bucket transfer fees), the annotation metadata needs to not only be filtered on the human eye class but also based on what images are actually included in the subset."
   ]
  },
  {
   "cell_type": "code",
   "execution_count": 11,
   "metadata": {},
   "outputs": [],
   "source": [
    "TRAIN_DIRS = ['train_00', 'train_01', 'train_02', 'train_03',\n",
    "              'train_04', 'train_05', 'train_06', 'train_07',\n",
    "              'train_08']\n",
    "\n",
    "sans_ext = lambda f: f[:-4]\n",
    "\n",
    "image_ids_from = compose(list, map(sans_ext), flatten, map(compose(ls, partial(join, DIR))))\n",
    "\n",
    "train_image_ids = image_ids_from(TRAIN_DIRS)\n",
    "test_image_ids  = image_ids_from(['test'])\n",
    "val_image_ids   = image_ids_from(['validation'])\n",
    "\n",
    "def eye_filter_subset(name, df, ids):\n",
    "    filtered_df = df[(df.LabelName == LABEL) & (df.ImageID.isin(ids))]\n",
    "    print(name, filtered_df.shape)\n",
    "    return filtered_df"
   ]
  },
  {
   "cell_type": "code",
   "execution_count": 22,
   "metadata": {},
   "outputs": [
    {
     "name": "stdout",
     "output_type": "stream",
     "text": [
      "train_ann_box (77233, 13)\n",
      "train_ann_label_box (36272, 4)\n",
      "val_ann_bbox (4304, 13)\n",
      "val_ann_label_box (5077, 4)\n",
      "test_ann_bbox (13034, 13)\n",
      "test_ann_label_box (15373, 4)\n"
     ]
    }
   ],
   "source": [
    "train_ann_bbox = eye_filter_subset(\n",
    "    'train_ann_bbox', train_ann_bbox, train_image_ids)\n",
    "train_ann_label_box = eye_filter_subset(\n",
    "    'train_ann_label_box', train_ann_label_box, train_image_ids)\n",
    "\n",
    "val_ann_bbox = eye_filter_subset(\n",
    "    'val_ann_bbox', val_ann_bbox, val_image_ids)\n",
    "val_ann_label_box = eye_filter_subset(\n",
    "    'val_ann_label_box', val_ann_label_box, val_image_ids)\n",
    "\n",
    "test_ann_bbox = eye_filter_subset(\n",
    "    'test_ann_bbox', test_ann_bbox, test_image_ids)\n",
    "test_ann_label_box = eye_filter_subset(\n",
    "    'test_ann_label_box', test_ann_label_box, test_image_ids)"
   ]
  },
  {
   "cell_type": "code",
   "execution_count": 25,
   "metadata": {},
   "outputs": [
    {
     "data": {
      "text/html": [
       "<div>\n",
       "<style scoped>\n",
       "    .dataframe tbody tr th:only-of-type {\n",
       "        vertical-align: middle;\n",
       "    }\n",
       "\n",
       "    .dataframe tbody tr th {\n",
       "        vertical-align: top;\n",
       "    }\n",
       "\n",
       "    .dataframe thead th {\n",
       "        text-align: right;\n",
       "    }\n",
       "</style>\n",
       "<table border=\"1\" class=\"dataframe\">\n",
       "  <thead>\n",
       "    <tr style=\"text-align: right;\">\n",
       "      <th></th>\n",
       "      <th>ImageID</th>\n",
       "      <th>Source</th>\n",
       "      <th>LabelName</th>\n",
       "      <th>Confidence</th>\n",
       "      <th>XMin</th>\n",
       "      <th>XMax</th>\n",
       "      <th>YMin</th>\n",
       "      <th>YMax</th>\n",
       "      <th>IsOccluded</th>\n",
       "      <th>IsTruncated</th>\n",
       "      <th>IsGroupOf</th>\n",
       "      <th>IsDepiction</th>\n",
       "      <th>IsInside</th>\n",
       "    </tr>\n",
       "  </thead>\n",
       "  <tbody>\n",
       "    <tr>\n",
       "      <th>37</th>\n",
       "      <td>000004f4400f6ec5</td>\n",
       "      <td>xclick</td>\n",
       "      <td>/m/014sv8</td>\n",
       "      <td>1</td>\n",
       "      <td>0.477500</td>\n",
       "      <td>0.496875</td>\n",
       "      <td>0.399627</td>\n",
       "      <td>0.441643</td>\n",
       "      <td>1</td>\n",
       "      <td>0</td>\n",
       "      <td>0</td>\n",
       "      <td>0</td>\n",
       "      <td>0</td>\n",
       "    </tr>\n",
       "    <tr>\n",
       "      <th>38</th>\n",
       "      <td>000004f4400f6ec5</td>\n",
       "      <td>xclick</td>\n",
       "      <td>/m/014sv8</td>\n",
       "      <td>1</td>\n",
       "      <td>0.603125</td>\n",
       "      <td>0.630000</td>\n",
       "      <td>0.315593</td>\n",
       "      <td>0.338002</td>\n",
       "      <td>0</td>\n",
       "      <td>0</td>\n",
       "      <td>0</td>\n",
       "      <td>0</td>\n",
       "      <td>0</td>\n",
       "    </tr>\n",
       "    <tr>\n",
       "      <th>39</th>\n",
       "      <td>000004f4400f6ec5</td>\n",
       "      <td>xclick</td>\n",
       "      <td>/m/014sv8</td>\n",
       "      <td>1</td>\n",
       "      <td>0.659375</td>\n",
       "      <td>0.680000</td>\n",
       "      <td>0.319328</td>\n",
       "      <td>0.334267</td>\n",
       "      <td>0</td>\n",
       "      <td>0</td>\n",
       "      <td>0</td>\n",
       "      <td>0</td>\n",
       "      <td>0</td>\n",
       "    </tr>\n",
       "    <tr>\n",
       "      <th>122</th>\n",
       "      <td>0000271195f2c007</td>\n",
       "      <td>xclick</td>\n",
       "      <td>/m/014sv8</td>\n",
       "      <td>1</td>\n",
       "      <td>0.414062</td>\n",
       "      <td>0.509375</td>\n",
       "      <td>0.558333</td>\n",
       "      <td>0.633333</td>\n",
       "      <td>0</td>\n",
       "      <td>0</td>\n",
       "      <td>0</td>\n",
       "      <td>0</td>\n",
       "      <td>0</td>\n",
       "    </tr>\n",
       "    <tr>\n",
       "      <th>123</th>\n",
       "      <td>0000271195f2c007</td>\n",
       "      <td>xclick</td>\n",
       "      <td>/m/014sv8</td>\n",
       "      <td>1</td>\n",
       "      <td>0.559375</td>\n",
       "      <td>0.634375</td>\n",
       "      <td>0.572917</td>\n",
       "      <td>0.643750</td>\n",
       "      <td>0</td>\n",
       "      <td>0</td>\n",
       "      <td>0</td>\n",
       "      <td>0</td>\n",
       "      <td>0</td>\n",
       "    </tr>\n",
       "  </tbody>\n",
       "</table>\n",
       "</div>"
      ],
      "text/plain": [
       "              ImageID  Source  LabelName  Confidence      XMin      XMax  \\\n",
       "37   000004f4400f6ec5  xclick  /m/014sv8           1  0.477500  0.496875   \n",
       "38   000004f4400f6ec5  xclick  /m/014sv8           1  0.603125  0.630000   \n",
       "39   000004f4400f6ec5  xclick  /m/014sv8           1  0.659375  0.680000   \n",
       "122  0000271195f2c007  xclick  /m/014sv8           1  0.414062  0.509375   \n",
       "123  0000271195f2c007  xclick  /m/014sv8           1  0.559375  0.634375   \n",
       "\n",
       "         YMin      YMax  IsOccluded  IsTruncated  IsGroupOf  IsDepiction  \\\n",
       "37   0.399627  0.441643           1            0          0            0   \n",
       "38   0.315593  0.338002           0            0          0            0   \n",
       "39   0.319328  0.334267           0            0          0            0   \n",
       "122  0.558333  0.633333           0            0          0            0   \n",
       "123  0.572917  0.643750           0            0          0            0   \n",
       "\n",
       "     IsInside  \n",
       "37          0  \n",
       "38          0  \n",
       "39          0  \n",
       "122         0  \n",
       "123         0  "
      ]
     },
     "execution_count": 25,
     "metadata": {},
     "output_type": "execute_result"
    }
   ],
   "source": [
    "train_ann_bbox.head()"
   ]
  },
  {
   "cell_type": "markdown",
   "metadata": {},
   "source": [
    "# Prepare Yolo V3 (Keras version) for Training \n",
    "\n",
    "https://github.com/qqwweee/keras-yolo3"
   ]
  }
 ],
 "metadata": {
  "kernelspec": {
   "display_name": "Python 3",
   "language": "python",
   "name": "python3"
  },
  "language_info": {
   "codemirror_mode": {
    "name": "ipython",
    "version": 3
   },
   "file_extension": ".py",
   "mimetype": "text/x-python",
   "name": "python",
   "nbconvert_exporter": "python",
   "pygments_lexer": "ipython3",
   "version": "3.6.4"
  }
 },
 "nbformat": 4,
 "nbformat_minor": 2
}
