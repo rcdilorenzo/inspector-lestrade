{
 "cells": [
  {
   "cell_type": "code",
   "execution_count": 22,
   "metadata": {
    "scrolled": false
   },
   "outputs": [],
   "source": [
    "from os import listdir as ls\n",
    "from os.path import join, isfile, expanduser\n",
    "from glob import glob\n",
    "from toolz import pipe, curry\n",
    "from toolz.curried import reduce, map\n",
    "from funcy import compose, rpartial\n",
    "from operator import add\n",
    "import pandas as pd\n",
    "import json\n",
    "\n",
    "json_from = compose(json.load, open, join)\n",
    "frame_paths = compose(\n",
    "    sorted,\n",
    "    map(lambda p: '/'.join(p.split('/')[-3:])),\n",
    "    glob,\n",
    "    rpartial(join, 'frames/*.jpg')\n",
    ")\n",
    "\n",
    "OUT_CSV = './eye-gaze-capture.csv'\n",
    "\n",
    "READ_FUNCS = {\n",
    "    'motion': compose(pd.DataFrame.from_dict, json_from)\n",
    "}\n",
    "\n",
    "FRAME_TYPES = [\n",
    "    'appleRightEye', 'appleLeftEye', 'appleFace', 'frames',\n",
    "    'screen', 'faceGrid', 'dotInfo'\n",
    "]\n",
    "\n",
    "@curry\n",
    "def data_type_from_folder(folder_path, data_type):\n",
    "    read_func = READ_FUNCS.get(data_type, json_from)\n",
    "    \n",
    "    # Load raw JSON\n",
    "    raw = read_func(folder_path, data_type + '.json')\n",
    "    \n",
    "    # Create data frame\n",
    "    df = raw if isinstance(raw, pd.DataFrame) else pd.DataFrame(data = raw)\n",
    "    \n",
    "    # Prefix columns with file_type\n",
    "    df = df.add_prefix(data_type + '.')\n",
    "    \n",
    "    # Add corresponding frames\n",
    "    df['Frame'] = frame_paths(folder_path)\n",
    "    \n",
    "    return df\n",
    "\n",
    "@curry\n",
    "def join_on(key, df1, df2):\n",
    "    return df1.join(df2.set_index(key), on = key)\n",
    "\n",
    "@curry\n",
    "def append_info(folder_path, df):\n",
    "    info = json_from(folder_path, 'info.json')\n",
    "    df['Dataset'] = info['Dataset']\n",
    "    df['DeviceName'] = info['DeviceName']\n",
    "    return df\n",
    "\n",
    "def folder_df(folder_path):\n",
    "    return pipe(\n",
    "        map(data_type_from_folder(folder_path), FRAME_TYPES),\n",
    "        reduce(join_on('Frame')),\n",
    "        append_info(folder_path))\n",
    "\n",
    "def write_folder_df(df, path = OUT_CSV):\n",
    "    mode = 'a' if isfile(path) else 'w'\n",
    "    header = not isfile(path)\n",
    "    df.to_csv(path, mode = mode, header = header, index = False)\n",
    "    return df.shape[0]\n",
    "\n",
    "collect_data = compose(\n",
    "    reduce(add),\n",
    "    map(compose(write_folder_df, folder_df)),\n",
    "    glob,\n",
    "    expanduser,\n",
    "    rpartial(join, '*/')\n",
    ")"
   ]
  },
  {
   "cell_type": "code",
   "execution_count": 23,
   "metadata": {},
   "outputs": [],
   "source": [
    "# Collect everything into single CSV (~ 600 MB)\n",
    "collect_data('~/Documents/data/gazecapture')\n",
    "\n",
    "# Read data back in from CSV\n",
    "capture_df = pd.read_csv(OUT_CSV)"
   ]
  },
  {
   "cell_type": "code",
   "execution_count": 26,
   "metadata": {
    "scrolled": false
   },
   "outputs": [
    {
     "data": {
      "text/plain": [
       "(2445504, 33)"
      ]
     },
     "execution_count": 26,
     "metadata": {},
     "output_type": "execute_result"
    }
   ],
   "source": [
    "capture_df.shape"
   ]
  }
 ],
 "metadata": {
  "kernelspec": {
   "display_name": "Python 3",
   "language": "python",
   "name": "python3"
  },
  "language_info": {
   "codemirror_mode": {
    "name": "ipython",
    "version": 3
   },
   "file_extension": ".py",
   "mimetype": "text/x-python",
   "name": "python",
   "nbconvert_exporter": "python",
   "pygments_lexer": "ipython3",
   "version": "3.6.4"
  }
 },
 "nbformat": 4,
 "nbformat_minor": 2
}
